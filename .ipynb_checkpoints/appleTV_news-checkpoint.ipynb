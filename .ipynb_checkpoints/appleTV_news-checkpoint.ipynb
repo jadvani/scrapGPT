{
 "cells": [
  {
   "cell_type": "code",
   "execution_count": 1,
   "metadata": {
    "colab": {
     "base_uri": "https://localhost:8080/"
    },
    "id": "vTCjzPvmqZQp",
    "outputId": "b21c8530-b326-487c-cc45-57e3e1ab580c"
   },
   "outputs": [
    {
     "name": "stdout",
     "output_type": "stream",
     "text": [
      "env: OPENAI_API_KEY=***\n"
     ]
    }
   ],
   "source": [
    "%env OPENAI_API_KEY=***"
   ]
  },
  {
   "cell_type": "code",
   "execution_count": null,
   "metadata": {
    "id": "DQVE6NQaqVs1"
   },
   "outputs": [],
   "source": [
    "try:\n",
    "  import openai\n",
    "except:\n",
    "  !pip install openai\n",
    "  import openai\n",
    "try:\n",
    "  import dotenv\n",
    "except:\n",
    "  !pip install python-dotenv\n",
    "  import dotenv\n",
    "  import os\n",
    "\n",
    "from dotenv import load_dotenv, find_dotenv\n",
    "_ = load_dotenv(find_dotenv()) # read local .env file\n",
    "openai.api_key  = os.getenv('OPENAI_API_KEY')\n",
    "def get_completion(prompt, model=\"gpt-3.5-turbo\"):\n",
    "    messages = [{\"role\": \"user\", \"content\": prompt}]\n",
    "    response = openai.ChatCompletion.create(\n",
    "        model=model,\n",
    "        messages=messages,\n",
    "        temperature=0, # this is the degree of randomness of the model's output\n",
    "    )\n",
    "    return response.choices[0].message[\"content\"]\n",
    "def generate_json(final_scrap):\n",
    "  prompt = f\"\"\"\n",
    "  resume las novedades del mes del siguiente texto: ```{final_scrap}```, en un JSON que va a tener por clave el mes del que habla el texto, y dentro va a contener otras tres claves: \\\n",
    "  SERIES, PELÍCULAS, DOCUMENTALES, y en cada una la lista de títulos de novedades, dependiendo de si es de un tipo u otro\n",
    "  \"\"\"\n",
    "  return get_completion(prompt).replace(\"\\n\", \"\")"
   ]
  },
  {
   "cell_type": "code",
   "execution_count": null,
   "metadata": {
    "id": "5s6tRGUxex3s"
   },
   "outputs": [],
   "source": [
    "import requests\n",
    "from bs4 import BeautifulSoup\n",
    "\n",
    "# Realizar la búsqueda en Google\n",
    "def scrap_lunes_seriefilos(month, year):\n",
    "  query = f\"novedades apple tv {month} {year} lunes seriefilos\"\n",
    "  url = f\"https://www.google.com/search?q={query}\"\n",
    "\n",
    "  # Hacer la solicitud HTTP y obtener el contenido HTML de la página de resultados\n",
    "  response = requests.get(url)\n",
    "  soup = BeautifulSoup(response.text, \"html.parser\")\n",
    "  res_url=\"\"\n",
    "  for a in soup.find_all('a', href=True):\n",
    "      if \"loslunesseriefilos.com\" in str(a):\n",
    "        res_url=a['href'].split(\"=\")[1].replace(\"&sa\", \"\")\n",
    "        break\n",
    "  response = requests.get(res_url)\n",
    "  soup = BeautifulSoup(response.text)\n",
    "  return soup.text.replace(\"\\n\", \"\").split(\"FacebookTwitterWhatsAppTelegram\")[1].split(\"¡Disfrútalos!¿Quieres\")[0]"
   ]
  },
  {
   "cell_type": "code",
   "execution_count": null,
   "metadata": {
    "colab": {
     "base_uri": "https://localhost:8080/",
     "height": 122
    },
    "id": "Da1Q9zkeq-AZ",
    "outputId": "5826c476-6f4b-41b3-f9e1-bec9fb6dcb2e"
   },
   "outputs": [
    {
     "data": {
      "application/vnd.google.colaboratory.intrinsic+json": {
       "type": "string"
      },
      "text/plain": [
       "'{  \"mes\": \"abril 2023\",  \"SERIES\": [    {      \"titulo\": \"Schmigadoon! (Temporada 2)\",      \"fecha_lanzamiento\": \"5 de abril\"    },    {      \"titulo\": \"Amigos sago mini: Especial día de La Tierra\",      \"fecha_lanzamiento\": \"14 de abril\"    },    {      \"titulo\": \"Jane\",      \"fecha_lanzamiento\": \"14 de abril\"    },    {      \"titulo\": \"Lo último que me dijo\",      \"fecha_lanzamiento\": \"14 de abril\"    },    {      \"titulo\": \"Las gotas de Dios\",      \"fecha_lanzamiento\": \"21 de abril\"    },    {      \"titulo\": \"The Afterparty (Temporada 2)\",      \"fecha_lanzamiento\": \"28 de abril\"    },    {      \"titulo\": \"Sapo y sepo\",      \"fecha_lanzamiento\": \"28 de abril\"    }  ],  \"PELÍCULAS\": [    {      \"titulo\": \"El mundo contra Boris Becker\",      \"fecha_lanzamiento\": \"7 de abril\"    },    {      \"titulo\": \"Ghosting\",      \"fecha_lanzamiento\": \"21 de abril\"    }  ],  \"DOCUMENTALES\": []}'"
      ]
     },
     "execution_count": 129,
     "metadata": {},
     "output_type": "execute_result"
    }
   ],
   "source": [
    "generate_json(scrap_lunes_seriefilos(\"abril\", \"2023\"))"
   ]
  },
  {
   "cell_type": "code",
   "execution_count": null,
   "metadata": {
    "colab": {
     "base_uri": "https://localhost:8080/"
    },
    "id": "qqiyIvVKtAda",
    "outputId": "34bc8c88-48ef-4dd1-e942-8ffa46793985"
   },
   "outputs": [
    {
     "data": {
      "text/plain": [
       "4330"
      ]
     },
     "execution_count": 96,
     "metadata": {},
     "output_type": "execute_result"
    }
   ],
   "source": []
  },
  {
   "cell_type": "code",
   "execution_count": null,
   "metadata": {
    "id": "SxliyTXdqmRJ"
   },
   "outputs": [],
   "source": []
  },
  {
   "cell_type": "markdown",
   "metadata": {
    "id": "XNmYX3Nmu0er"
   },
   "source": []
  },
  {
   "cell_type": "code",
   "execution_count": null,
   "metadata": {
    "colab": {
     "base_uri": "https://localhost:8080/",
     "height": 87
    },
    "id": "Lqo4K5bttRtS",
    "outputId": "d41680a6-8ccc-4ac0-fdc3-007afe40601b"
   },
   "outputs": [
    {
     "data": {
      "application/vnd.google.colaboratory.intrinsic+json": {
       "type": "string"
      },
      "text/plain": [
       "'{  \"novedades\": [    {      \"TÍTULO\": \"Silo\",      \"TIPO\": \"serie\"    },    {      \"TÍTULO\": \"Harriet La Espia\",      \"TIPO\": \"serie\"    },    {      \"TÍTULO\": \"Ciudad en Llamas\",      \"TIPO\": \"serie\"    },    {      \"TÍTULO\": \"High Desert\",      \"TIPO\": \"serie\"    },    {      \"TÍTULO\": \"Pequeñas Historias Zen (Temporada 3)\",      \"TIPO\": \"serie\"    },    {      \"TÍTULO\": \"Platónico\",      \"TIPO\": \"serie\"    },    {      \"TÍTULO\": \"La vida de Michael J. Fox\",      \"TIPO\": \"película\"    },    {      \"TÍTULO\": \"Planeta Prehistórico (Temporada 2)\",      \"TIPO\": \"documental\"    }  ]}'"
      ]
     },
     "execution_count": 115,
     "metadata": {},
     "output_type": "execute_result"
    }
   ],
   "source": []
  }
 ],
 "metadata": {
  "colab": {
   "provenance": []
  },
  "kernelspec": {
   "display_name": "Python 3 (ipykernel)",
   "language": "python",
   "name": "python3"
  },
  "language_info": {
   "codemirror_mode": {
    "name": "ipython",
    "version": 3
   },
   "file_extension": ".py",
   "mimetype": "text/x-python",
   "name": "python",
   "nbconvert_exporter": "python",
   "pygments_lexer": "ipython3",
   "version": "3.8.3"
  }
 },
 "nbformat": 4,
 "nbformat_minor": 1
}
